{
 "cells": [
  {
   "cell_type": "markdown",
   "metadata": {},
   "source": [
    "## Anomaly detection using an autoencoder"
   ]
  },
  {
   "cell_type": "markdown",
   "metadata": {},
   "source": [
    "### **Note on this tutorials:**\n",
    "**They mostly contain low level implementations explaining what is going on inside the library.**\n",
    "\n",
    "**Most of the stuff explained here is already available out of the box for your usage.**\n",
    "\n",
    "This is a utility network mainly used for debuggning"
   ]
  },
  {
   "cell_type": "code",
   "execution_count": 1,
   "metadata": {},
   "outputs": [],
   "source": [
    "import torch\n",
    "from torch.utils.data import Dataset, DataLoader\n",
    "import torch.nn as nn\n",
    "import torch.nn.functional as F\n",
    "import torch.optim as optim\n",
    "import torch_optimizer as optim\n",
    "import numpy as np\n",
    "import pandas as pd\n",
    "from tqdm import tqdm_notebook as tqdm\n",
    "import pickle\n",
    "import json\n",
    "\n",
    "# == recnn ==\n",
    "import sys\n",
    "sys.path.append(\"../../\")\n",
    "import recnn\n",
    "\n",
    "from jupyterthemes import jtplot\n",
    "jtplot.style(theme='grade3')\n",
    "\n",
    "cuda = torch.device('cuda')\n",
    "frame_size = 10"
   ]
  },
  {
   "cell_type": "code",
   "execution_count": 2,
   "metadata": {},
   "outputs": [],
   "source": [
    "# https://drive.google.com/open?id=1kTyu05ZmtP2MA33J5hWdX8OyUYEDW4iI\n",
    "movies = pickle.load(open('../../data/embeddings/ml20_pca128.pkl', 'rb'))"
   ]
  },
  {
   "cell_type": "code",
   "execution_count": 3,
   "metadata": {},
   "outputs": [],
   "source": [
    "for i in movies.keys():\n",
    "    movies[i] = movies[i].to(cuda)"
   ]
  },
  {
   "cell_type": "code",
   "execution_count": 4,
   "metadata": {},
   "outputs": [],
   "source": [
    "class AnomalyDetector(nn.Module):\n",
    "    def __init__(self):\n",
    "        super(AnomalyDetector, self).__init__()\n",
    "        self.ae = nn.Sequential(\n",
    "            nn.Linear(128, 64),\n",
    "            nn.ReLU(),\n",
    "            nn.BatchNorm1d(64),\n",
    "            nn.Linear(64, 32),\n",
    "            nn.ReLU(),\n",
    "            nn.BatchNorm1d(32),\n",
    "            nn.Linear(32, 64),\n",
    "            nn.ReLU(),\n",
    "            nn.BatchNorm1d(64),\n",
    "            nn.Linear(64, 128),\n",
    "            nn.ReLU(),\n",
    "        )\n",
    "        \n",
    "    def forward(self, x):\n",
    "        return self.ae(x)\n",
    "    \n",
    "    def rec_error(self, x):\n",
    "        error = torch.sum((x - self.ae(x)) ** 2, 1)\n",
    "        if x.size(1) != 1:\n",
    "            return error.detach()\n",
    "        return error.item()"
   ]
  },
  {
   "cell_type": "code",
   "execution_count": 7,
   "metadata": {},
   "outputs": [],
   "source": [
    "data = torch.stack(list(movies.values())).to(cuda)\n",
    "data = data[torch.randperm(data.size()[0])] # shuffle rows\n",
    "data_test = data[-100:]\n",
    "data = data[:-100]\n",
    "n_epochs = 5000\n",
    "batch_size = 15000\n",
    "\n",
    "model = AnomalyDetector().to(cuda)\n",
    "criterion = nn.MSELoss()\n",
    "optimizer = optim.Ranger(model.parameters(), lr=1e-4, weight_decay=1e-2)\n",
    "run_loss = []"
   ]
  },
  {
   "cell_type": "code",
   "execution_count": 8,
   "metadata": {
    "tags": []
   },
   "outputs": [
    {
     "name": "stderr",
     "output_type": "stream",
     "text": [
      "<ipython-input-8-422c8195285b>:5: TqdmDeprecationWarning: This function will be removed in tqdm==5.0.0\n",
      "Please use `tqdm.notebook.tqdm` instead of `tqdm.tqdm_notebook`\n",
      "  for epoch in tqdm(range(n_epochs)):\n"
     ]
    },
    {
     "data": {
      "application/vnd.jupyter.widget-view+json": {
       "model_id": "414758e42cd541919db127e6287ff954",
       "version_major": 2,
       "version_minor": 0
      },
      "text/plain": [
       "HBox(children=(FloatProgress(value=0.0, max=5000.0), HTML(value='')))"
      ]
     },
     "metadata": {},
     "output_type": "display_data"
    },
    {
     "name": "stderr",
     "output_type": "stream",
     "text": [
      "/home/mikew/anaconda3/envs/recnn/lib/python3.8/site-packages/pytorch_ranger/ranger.py:172: UserWarning: This overload of addcmul_ is deprecated:\n",
      "\taddcmul_(Number value, Tensor tensor1, Tensor tensor2)\n",
      "Consider using one of the following signatures instead:\n",
      "\taddcmul_(Tensor tensor1, Tensor tensor2, *, Number value) (Triggered internally at  /opt/conda/conda-bld/pytorch_1595629395347/work/torch/csrc/utils/python_arg_parser.cpp:766.)\n",
      "  exp_avg_sq.mul_(beta2).addcmul_(1 - beta2, grad, grad)\n"
     ]
    },
    {
     "name": "stdout",
     "output_type": "stream",
     "text": [
      "\n"
     ]
    }
   ],
   "source": [
    "test_loss = []\n",
    "rec_loss = []\n",
    "test_rec_loss = []\n",
    "\n",
    "for epoch in tqdm(range(n_epochs)):\n",
    "    for batch in data.split(batch_size):\n",
    "        optimizer.zero_grad()\n",
    "        batch = batch\n",
    "        output = model(batch).float()\n",
    "        loss = criterion(output, batch)\n",
    "        test_loss.append(criterion(model(data_test).float(), data_test).item())\n",
    "        rec_loss.append(model.rec_error(batch))\n",
    "        test_rec_loss.append(model.rec_error(data_test))\n",
    "        loss.backward()\n",
    "        optimizer.step()\n",
    "        run_loss.append(loss.item())"
   ]
  },
  {
   "cell_type": "code",
   "execution_count": 9,
   "metadata": {},
   "outputs": [
    {
     "data": {
      "image/png": "[encoded data removed]",
      "text/plain": [
       "<Figure size 432x288 with 1 Axes>"
      ]
     },
     "metadata": {
      "needs_background": "light"
     },
     "output_type": "display_data"
    }
   ],
   "source": [
    "import matplotlib.pyplot as plt\n",
    "%matplotlib inline\n",
    "plt.plot(run_loss)\n",
    "plt.plot(test_loss)\n",
    "plt.show()"
   ]
  },
  {
   "cell_type": "code",
   "execution_count": 10,
   "metadata": {
    "tags": []
   },
   "outputs": [
    {
     "name": "stdout",
     "output_type": "stream",
     "text": [
      "[224.92099 585.77966 528.3213  ... 215.87817 337.97443 397.52893]\n"
     ]
    }
   ],
   "source": [
    "# real movies\n",
    "def calc_art_score(x):\n",
    "    return model.rec_error(x)  + (1 / x.var() * 5)\n",
    "\n",
    "model.eval()\n",
    "train_scores = model.rec_error(data).detach().cpu().numpy()\n",
    "print(train_scores)"
   ]
  },
  {
   "cell_type": "markdown",
   "metadata": {},
   "source": [
    "### Now lets see what our autoencoder can do\n",
    "Here you can see test scores reconstruction errors"
   ]
  },
  {
   "cell_type": "code",
   "execution_count": 16,
   "metadata": {},
   "outputs": [
    {
     "data": {
      "image/png": "[encoded data removed]",
      "text/plain": [
       "<Figure size 432x288 with 1 Axes>"
      ]
     },
     "metadata": {
      "needs_background": "light"
     },
     "output_type": "display_data"
    }
   ],
   "source": [
    "test_scores = model.rec_error(data_test)\n",
    "scores = test_scores.detach().cpu().numpy()\n",
    "plt.plot(scores, 'o')\n",
    "plt.axhline(y=np.mean(scores), label='mean', linestyle='--', color='red')\n",
    "plt.show()"
   ]
  },
  {
   "cell_type": "code",
   "execution_count": 17,
   "metadata": {},
   "outputs": [
    {
     "data": {
      "text/plain": [
       "22.486663584980334"
      ]
     },
     "execution_count": 17,
     "metadata": {},
     "output_type": "execute_result"
    }
   ],
   "source": [
    "from scipy import stats\n",
    "# test from train doesn't seem to be that far off!\n",
    "stats.wasserstein_distance(train_scores, scores)"
   ]
  },
  {
   "cell_type": "markdown",
   "metadata": {},
   "source": [
    "### This example shows randomly generated movies \n",
    "drawn from ~ Normal(0, 0.2):"
   ]
  },
  {
   "cell_type": "code",
   "execution_count": 18,
   "metadata": {},
   "outputs": [
    {
     "data": {
      "image/png": "[encoded data removed]",
      "text/plain": [
       "<Figure size 432x288 with 1 Axes>"
      ]
     },
     "metadata": {
      "needs_background": "light"
     },
     "output_type": "display_data"
    }
   ],
   "source": [
    "scores = model.rec_error(torch.tensor(np.random.normal(0, 0.2, [100, 128])).to(cuda).float())\n",
    "scores = scores.detach().cpu().numpy()\n",
    "plt.plot(scores, 'o')\n",
    "plt.axhline(y=np.mean(scores), label='mean', linestyle='--', color='red')\n",
    "plt.show()"
   ]
  },
  {
   "cell_type": "code",
   "execution_count": 19,
   "metadata": {},
   "outputs": [
    {
     "data": {
      "text/plain": [
       "399.0211505168499"
      ]
     },
     "execution_count": 19,
     "metadata": {},
     "output_type": "execute_result"
    }
   ],
   "source": [
    "stats.wasserstein_distance(train_scores, scores) # something doesnt quiet match here"
   ]
  },
  {
   "cell_type": "markdown",
   "metadata": {},
   "source": [
    "### Here is that nasty -1 tensor\n",
    "Normal distro was used to add some of variance"
   ]
  },
  {
   "cell_type": "code",
   "execution_count": 20,
   "metadata": {},
   "outputs": [
    {
     "data": {
      "text/plain": [
       "tensor([136.6106], device='cuda:0')"
      ]
     },
     "execution_count": 20,
     "metadata": {},
     "output_type": "execute_result"
    }
   ],
   "source": [
    "model.rec_error(torch.tensor([-1] * 128).unsqueeze(0).to(cuda).float())"
   ]
  },
  {
   "cell_type": "code",
   "execution_count": 22,
   "metadata": {},
   "outputs": [
    {
     "data": {
      "image/png": "[encoded data removed]",
      "text/plain": [
       "<Figure size 432x288 with 1 Axes>"
      ]
     },
     "metadata": {
      "needs_background": "light"
     },
     "output_type": "display_data"
    }
   ],
   "source": [
    "scores = model.rec_error(torch.tensor(np.random.normal(-1, 0.2, [100, 128])).to(cuda).float())\n",
    "scores = scores.detach().cpu().numpy()\n",
    "plt.plot(scores, 'o')\n",
    "plt.axhline(y=np.mean(scores), label='mean', linestyle='--', color='red')\n",
    "plt.show()"
   ]
  },
  {
   "cell_type": "code",
   "execution_count": 23,
   "metadata": {},
   "outputs": [
    {
     "data": {
      "text/plain": [
       "264.0437043496098"
      ]
     },
     "execution_count": 23,
     "metadata": {},
     "output_type": "execute_result"
    }
   ],
   "source": [
    "stats.wasserstein_distance(train_scores, scores) # oh oh! Look at the number at the bottom!"
   ]
  },
  {
   "cell_type": "markdown",
   "metadata": {},
   "source": [
    "## As you can see it works just fine!\n",
    "The key thing here is to use the WS distance as the metric and not just look at the scores.\n",
    "Anyway, as in any neural networks setup, our actor will be acting in batches. We will sample the generated films batch, feed it into the autoencoder, perform MSE with the ground truth and get the reconstruction score distribution. Then we will see how closely it resembles the real one using Wasserstein-Gromov metric.\n",
    "### Anyway here are some cool KDE visualizations"
   ]
  },
  {
   "cell_type": "code",
   "execution_count": 24,
   "metadata": {},
   "outputs": [
    {
     "data": {
      "image/png": "[encoded data removed]",
      "text/plain": [
       "<Figure size 432x288 with 1 Axes>"
      ]
     },
     "metadata": {
      "needs_background": "light"
     },
     "output_type": "display_data"
    }
   ],
   "source": [
    "train_scores = model.rec_error(data).detach().cpu().numpy()\n",
    "train_kernel = stats.gaussian_kde(train_scores)\n",
    "test_scores = model.rec_error(data_test).detach().cpu().numpy()\n",
    "test_kernel = stats.gaussian_kde(test_scores)\n",
    "x = np.linspace(0,1000, 100)\n",
    "probs_train = train_kernel(x)\n",
    "probs_test = test_kernel(x)\n",
    "plt.plot(x, probs_train, '-b', label='train dist')\n",
    "plt.plot(x, probs_test, '-r', label='test dist')\n",
    "plt.legend()\n",
    "plt.show()"
   ]
  },
  {
   "cell_type": "code",
   "execution_count": 25,
   "metadata": {
    "tags": []
   },
   "outputs": [
    {
     "name": "stdout",
     "output_type": "stream",
     "text": [
      "count    27178.000000\n",
      "mean       405.222748\n",
      "std        202.811554\n",
      "min          5.092957\n",
      "25%        259.896370\n",
      "50%        341.583618\n",
      "75%        506.556114\n",
      "max       4608.396973\n",
      "dtype: float64\n",
      "count     100.000000\n",
      "mean      396.920502\n",
      "std       211.813919\n",
      "min        12.653063\n",
      "25%       244.549824\n",
      "50%       315.021576\n",
      "75%       536.957306\n",
      "max      1110.174561\n",
      "dtype: float64\n"
     ]
    }
   ],
   "source": [
    "import pandas as pd\n",
    "print(pd.Series(train_scores).describe())\n",
    "print(pd.Series(test_scores).describe())"
   ]
  },
  {
   "cell_type": "code",
   "execution_count": 26,
   "metadata": {},
   "outputs": [],
   "source": [
    "torch.save(model.state_dict(), \"../../models/anomaly.pt\")"
   ]
  },
  {
   "cell_type": "code",
   "execution_count": null,
   "metadata": {},
   "outputs": [],
   "source": []
  }
 ],
 "metadata": {
  "kernelspec": {
   "display_name": "Python 3.8.5 64-bit",
   "language": "python",
   "name": "python38564bitfba12b29602d49fd94d253df959599f4"
  },
  "language_info": {
   "codemirror_mode": {
    "name": "ipython",
    "version": 3
   },
   "file_extension": ".py",
   "mimetype": "text/x-python",
   "name": "python",
   "nbconvert_exporter": "python",
   "pygments_lexer": "ipython3",
   "version": "3.8.5"
  }
 },
 "nbformat": 4,
 "nbformat_minor": 2
}
